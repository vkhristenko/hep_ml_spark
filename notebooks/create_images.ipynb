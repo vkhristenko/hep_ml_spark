{
 "cells": [
  {
   "cell_type": "markdown",
   "metadata": {},
   "source": [
    "## Create a Spark Session"
   ]
  },
  {
   "cell_type": "code",
   "execution_count": 1,
   "metadata": {},
   "outputs": [],
   "source": [
    "import findspark\n",
    "findspark.init('/afs/cern.ch/work/m/migliori/public/spark-2.4/')"
   ]
  },
  {
   "cell_type": "code",
   "execution_count": 2,
   "metadata": {},
   "outputs": [],
   "source": [
    "application_name = 'dist-keras-notebook'\n",
    "master = \"local[8]\""
   ]
  },
  {
   "cell_type": "code",
   "execution_count": 3,
   "metadata": {},
   "outputs": [],
   "source": [
    "from pyspark.sql import SparkSession\n",
    "\n",
    "spark = SparkSession.builder\\\n",
    "        .appName(\"dist-keras\")\\\n",
    "        .config(\"spark.master\", master)\\\n",
    "        .config(\"spark.driver.memory\", \"32G\")\\\n",
    "        .config(\"spark.pyspark.python\",\n",
    "                \"/afs/cern.ch/work/m/migliori/public/anaconda2/bin/python\")\\\n",
    "        .config(\"spark.local.dir\", \"/local1/matteo\")\\\n",
    "        .config(\"spark.sql.execution.arrow.enabled\", \"true\")\\\n",
    "        .getOrCreate()"
   ]
  },
  {
   "cell_type": "code",
   "execution_count": 4,
   "metadata": {},
   "outputs": [
    {
     "data": {
      "text/html": [
       "\n",
       "            <div>\n",
       "                <p><b>SparkSession - in-memory</b></p>\n",
       "                \n",
       "        <div>\n",
       "            <p><b>SparkContext</b></p>\n",
       "\n",
       "            <p><a href=\"http://ithdp1063.cern.ch:4040\">Spark UI</a></p>\n",
       "\n",
       "            <dl>\n",
       "              <dt>Version</dt>\n",
       "                <dd><code>v2.4.0-SNAPSHOT</code></dd>\n",
       "              <dt>Master</dt>\n",
       "                <dd><code>local[8]</code></dd>\n",
       "              <dt>AppName</dt>\n",
       "                <dd><code>dist-keras</code></dd>\n",
       "            </dl>\n",
       "        </div>\n",
       "        \n",
       "            </div>\n",
       "        "
      ],
      "text/plain": [
       "<pyspark.sql.session.SparkSession at 0x7fd9819a92d0>"
      ]
     },
     "execution_count": 4,
     "metadata": {},
     "output_type": "execute_result"
    }
   ],
   "source": [
    "spark"
   ]
  },
  {
   "cell_type": "markdown",
   "metadata": {},
   "source": [
    "## Load the dataframe"
   ]
  },
  {
   "cell_type": "code",
   "execution_count": 5,
   "metadata": {},
   "outputs": [
    {
     "data": {
      "text/plain": [
       "58878"
      ]
     },
     "execution_count": 5,
     "metadata": {},
     "output_type": "execute_result"
    }
   ],
   "source": [
    "data = spark.read.format(\"parquet\") \\\n",
    "        .load(\"../more_data.parquet/\") \n",
    "            \n",
    "data.count()"
   ]
  },
  {
   "cell_type": "code",
   "execution_count": 6,
   "metadata": {},
   "outputs": [
    {
     "name": "stdout",
     "output_type": "stream",
     "text": [
      "+--------------------+--------------------+-----+\n",
      "|           hfeatures|           lfeatures|label|\n",
      "+--------------------+--------------------+-----+\n",
      "|[125.582424163818...|[[62.019286629953...|    1|\n",
      "|[453.637893676757...|[[174.23577757887...|    1|\n",
      "|[137.816619873046...|[[88.344498501277...|    1|\n",
      "|[404.660964965820...|[[688.94906881130...|    1|\n",
      "|[0.0,53.927665710...|[[91.383728162291...|    1|\n",
      "+--------------------+--------------------+-----+\n",
      "only showing top 5 rows\n",
      "\n"
     ]
    }
   ],
   "source": [
    "data.show(5)"
   ]
  },
  {
   "cell_type": "code",
   "execution_count": 7,
   "metadata": {},
   "outputs": [
    {
     "name": "stdout",
     "output_type": "stream",
     "text": [
      "root\n",
      " |-- hfeatures: vector (nullable = true)\n",
      " |-- lfeatures: array (nullable = true)\n",
      " |    |-- element: array (containsNull = true)\n",
      " |    |    |-- element: double (containsNull = true)\n",
      " |-- label: integer (nullable = true)\n",
      "\n"
     ]
    }
   ],
   "source": [
    "data.printSchema()"
   ]
  },
  {
   "cell_type": "markdown",
   "metadata": {},
   "source": [
    "## Create the images"
   ]
  },
  {
   "cell_type": "code",
   "execution_count": 8,
   "metadata": {},
   "outputs": [],
   "source": [
    "import numpy as np\n",
    "import matplotlib\n",
    "import matplotlib.pyplot as plt\n",
    "from pyspark.sql import Row\n",
    "from skimage import draw\n",
    "\n",
    "%matplotlib notebook"
   ]
  },
  {
   "cell_type": "code",
   "execution_count": 9,
   "metadata": {},
   "outputs": [
    {
     "name": "stdout",
     "output_type": "stream",
     "text": [
      "['red', 'yellow', 'blue', 'green', 'green', 'black']\n",
      "[array([1., 0., 0.]), array([1., 1., 0.]), array([0., 0., 1.]), array([0.        , 0.50196078, 0.        ]), array([0.        , 0.50196078, 0.        ]), array([0., 0., 0.])]\n",
      "[4, 0, 3, 5, 5, 0]\n"
     ]
    }
   ],
   "source": [
    "feature_variables = ['Energy', 'Px', 'Py', 'Pz', 'Pt', 'Eta', 'Phi', \n",
    "                    'vtxX', 'vtxY', 'vtxZ','ChPFIso', 'GammaPFIso', 'NeuPFIso',\n",
    "                    'isChHad', 'isNeuHad', 'isGamma', 'isEle',  'isMu', \n",
    "                        #'Charge'\n",
    "           ]\n",
    "\n",
    "colors = {'isMu' : 'green',\n",
    "        'isEle': 'green',\n",
    "         'isGamma':'blue',\n",
    "         'isChHad' : 'red',\n",
    "         'isNeuHad': 'yellow'}\n",
    "\n",
    "shapes = {'isMu' : 5,\n",
    "          'isEle': 5,\n",
    "          'isGamma':3,\n",
    "          'isChHad' : 4,\n",
    "          'isNeuHad': 0}\n",
    "\n",
    "c_colors = [colors[k] for k in feature_variables[13:]]+['black']\n",
    "cc_colors = [np.asarray(matplotlib.colors.to_rgb(k)) for k in c_colors]\n",
    "cc_shapes = [shapes[k] for k in feature_variables[13:]]+[0]\n",
    "\n",
    "print(c_colors)\n",
    "print(cc_colors)\n",
    "print(cc_shapes)"
   ]
  },
  {
   "cell_type": "code",
   "execution_count": 10,
   "metadata": {},
   "outputs": [],
   "source": [
    "def showImage(image):\n",
    "    fig = plt.figure(frameon=False)\n",
    "    plt.imshow(image.swapaxes(0,1))\n",
    "    plt.axis('off')\n",
    "    #plt.savefig('fig.png', dpi=100, bbox_inches='tight', pad_inches=0)\n",
    "    plt.show()\n",
    "\n",
    "def create3D(data):\n",
    "    max_eta = 5\n",
    "    max_phi = np.pi\n",
    "    res= 100\n",
    "    neta = int(max_eta*res)\n",
    "    nphi = int(max_phi*res)\n",
    "    eeta = 2.*max_eta / float(neta)\n",
    "    ephi = 2.*max_phi / float(nphi)\n",
    "    def ieta( eta ): return (eta+max_eta) / eeta\n",
    "    def iphi(phi) : return (phi+max_phi) / ephi\n",
    "    blend = 0.3\n",
    "    image = np.ones((neta,nphi,3), dtype = np.float32)\n",
    "    \n",
    "    for ip in range(data.shape[0]):\n",
    "        p_data = data[ip,:]\n",
    "        eta = p_data[0]\n",
    "        phi = p_data[1]\n",
    "        if eta==0 and phi==0: \n",
    "            #print ip\n",
    "            continue\n",
    "        #pT = p_data[2]\n",
    "        #lpT = min(max(np.log(pT)/5.,0.001), 10)*res/2.\n",
    "        lpT = p_data[2]\n",
    "        ptype = int(p_data[3])\n",
    "        c = cc_colors[ ptype ]\n",
    "        s = cc_shapes[ ptype ]\n",
    "        R = lpT * res/1.5\n",
    "        iee = ieta(eta)\n",
    "        ip0 = iphi(phi)\n",
    "        ip1 = iphi(phi+2*np.pi)\n",
    "        ip2 = iphi(phi-2*np.pi)\n",
    "        \n",
    "        if s==0:\n",
    "            xi0,yi0 = draw.circle(  iee, ip0,radius=R, shape=image.shape[:2])\n",
    "            xi1,yi1 = draw.circle( iee, ip1, radius=R, shape=image.shape[:2])\n",
    "            xi2,yi2 = draw.circle( iee, ip2, radius=R, shape=image.shape[:2]) \n",
    "            #if ptype == 5:\n",
    "            #    print \"MET\",eta,phi\n",
    "        else:\n",
    "            nv = s\n",
    "            vx = [iee + R*np.cos(ang) for ang in np.arange(0,2*np.pi, 2*np.pi/nv)]\n",
    "            vy = [ip0 + R*np.sin(ang) for ang in np.arange(0,2*np.pi, 2*np.pi/nv)]\n",
    "            vy1 = [ip1 + R*np.sin(ang) for ang in np.arange(0,2*np.pi, 2*np.pi/nv)]\n",
    "            vy2 = [ip2 + R*np.sin(ang) for ang in np.arange(0,2*np.pi, 2*np.pi/nv)]\n",
    "            xi0,yi0 = draw.polygon( vx, vy , shape=image.shape[:2])\n",
    "            xi1,yi1 = draw.polygon( vx, vy1 , shape=image.shape[:2])\n",
    "            xi2,yi2 = draw.polygon( vx, vy2 , shape=image.shape[:2])\n",
    "            \n",
    "        xi = np.concatenate((xi0,xi1,xi2))\n",
    "        yi = np.concatenate((yi0,yi1,yi2))\n",
    "        image[xi,yi,:] = (image[xi,yi,:] *(1-blend)) + (c*blend)\n",
    "    return image\n",
    "\n",
    "\n",
    "def convert2image(row):\n",
    "    \"\"\"Assume that a row contains a non-empty 2D matrix of features\"\"\"\n",
    "    lmat = np.asarray(row.lfeatures, dtype=np.float64)\n",
    "    hmat = np.asarray(row.hfeatures, dtype=np.float64)\n",
    "    \n",
    "    label = row.label\n",
    "    \n",
    "    # low level features\n",
    "    l_reduced = np.asarray(np.zeros((lmat.shape[0], 4)))\n",
    "    l_reduced[:, 0] = lmat[:, 5]\n",
    "    l_reduced[:, 1] = lmat[:, 6]\n",
    "    l_reduced[:, 2] = np.minimum(np.log(np.maximum(lmat[:, 4], 1.001))/5., 10)\n",
    "    l_reduced[:, 3] = np.argmax(lmat[:, 13:], axis=-1)\n",
    "    \n",
    "    # high level features\n",
    "    h_reduced = np.zeros( (1, 4))\n",
    "    h_reduced[0,2] = np.minimum(np.maximum(np.log(hmat[1])/5.,0.001), 10) # MET\n",
    "    h_reduced[0,1] = hmat[2] # MET-phi\n",
    "    h_reduced[0,3] = int(5) ## met type\n",
    "    \n",
    "    reduced = np.concatenate((l_reduced, h_reduced), axis=0)\n",
    "    \n",
    "    # working: return Row(image=reduced.tolist(), label=label)\n",
    "    return Row(image=create3D(np.asarray(reduced)).tolist(), label=label)\n",
    "    # not_working: return Row(image=ImageSchema.toImage(create3D(np.asarray(reduced))), label=label)"
   ]
  },
  {
   "cell_type": "code",
   "execution_count": 11,
   "metadata": {
    "scrolled": true
   },
   "outputs": [],
   "source": [
    "images = data.rdd.map(convert2image).toDF()"
   ]
  },
  {
   "cell_type": "code",
   "execution_count": 12,
   "metadata": {},
   "outputs": [
    {
     "name": "stdout",
     "output_type": "stream",
     "text": [
      "root\n",
      " |-- image: array (nullable = true)\n",
      " |    |-- element: array (containsNull = true)\n",
      " |    |    |-- element: array (containsNull = true)\n",
      " |    |    |    |-- element: double (containsNull = true)\n",
      " |-- label: long (nullable = true)\n",
      "\n"
     ]
    }
   ],
   "source": [
    "images.printSchema()"
   ]
  },
  {
   "cell_type": "code",
   "execution_count": 13,
   "metadata": {
    "scrolled": true
   },
   "outputs": [
    {
     "data": {
      "image/png": "[encoded data removed]",
      "text/plain": [
       "<matplotlib.figure.Figure at 0x7fd9ac9a4710>"
      ]
     },
     "metadata": {},
     "output_type": "display_data"
    }
   ],
   "source": [
    "showImage(np.asarray(images.take(1)[0].image))"
   ]
  },
  {
   "cell_type": "markdown",
   "metadata": {},
   "source": [
    "Save the dataframe as parquet file"
   ]
  },
  {
   "cell_type": "code",
   "execution_count": 51,
   "metadata": {},
   "outputs": [
    {
     "name": "stdout",
     "output_type": "stream",
     "text": [
      "CPU times: user 398 ms, sys: 343 ms, total: 741 ms\n",
      "Wall time: 1h 52min 51s\n"
     ]
    }
   ],
   "source": [
    "%time images.write.parquet('images.parquet', mode='overwrite')"
   ]
  },
  {
   "cell_type": "markdown",
   "metadata": {},
   "source": [
    "## test CNN"
   ]
  },
  {
   "cell_type": "code",
   "execution_count": 14,
   "metadata": {},
   "outputs": [
    {
     "name": "stderr",
     "output_type": "stream",
     "text": [
      "Using TensorFlow backend.\n"
     ]
    }
   ],
   "source": [
    "from keras.optimizers import *\n",
    "from keras.models import Sequential\n",
    "from keras.layers.core import *\n",
    "from keras.layers.convolutional import *\n",
    "\n",
    "from distkeras.trainers import *\n",
    "from distkeras.predictors import *\n",
    "from distkeras.transformers import *\n",
    "from distkeras.evaluators import *\n",
    "from distkeras.utils import *"
   ]
  },
  {
   "cell_type": "code",
   "execution_count": 15,
   "metadata": {},
   "outputs": [
    {
     "data": {
      "text/plain": [
       "(500, 314, 3)"
      ]
     },
     "execution_count": 15,
     "metadata": {},
     "output_type": "execute_result"
    }
   ],
   "source": [
    "np.asarray(images.take(1)[0].image).shape"
   ]
  },
  {
   "cell_type": "code",
   "execution_count": 16,
   "metadata": {},
   "outputs": [
    {
     "name": "stderr",
     "output_type": "stream",
     "text": [
      "/afs/cern.ch/work/m/migliori/public/anaconda2/lib/python2.7/site-packages/ipykernel_launcher.py:15: UserWarning: Update your `Conv2D` call to the Keras 2 API: `Conv2D(32, (3, 3), padding=\"valid\", input_shape=(500, 314,...)`\n",
      "  from ipykernel import kernelapp as app\n",
      "/afs/cern.ch/work/m/migliori/public/anaconda2/lib/python2.7/site-packages/ipykernel_launcher.py:17: UserWarning: Update your `Conv2D` call to the Keras 2 API: `Conv2D(32, (3, 3))`\n"
     ]
    }
   ],
   "source": [
    "# Declare model parameters.\n",
    "img_rows, img_cols, img_channels = 500, 314, 3\n",
    "# number of convolutional filters to use\n",
    "nb_filters = 32\n",
    "# size of pooling area for max pooling\n",
    "pool_size = (2, 2)\n",
    "# convolution kernel size\n",
    "kernel_size = (3, 3)\n",
    "input_shape = (img_rows, img_cols, img_channels)\n",
    "\n",
    "# Construct the model.\n",
    "convnet = Sequential()\n",
    "convnet.add(Convolution2D(nb_filters, kernel_size[0], kernel_size[1],\n",
    "                          border_mode='valid',\n",
    "                          input_shape=input_shape))\n",
    "convnet.add(Activation('relu'))\n",
    "convnet.add(Convolution2D(nb_filters, kernel_size[0], kernel_size[1]))\n",
    "convnet.add(Activation('relu'))\n",
    "convnet.add(MaxPooling2D(pool_size=pool_size))\n",
    "\n",
    "convnet.add(Flatten())\n",
    "convnet.add(Dense(225))\n",
    "convnet.add(Activation('relu'))\n",
    "convnet.add(Dense(3))\n",
    "convnet.add(Activation('softmax'))"
   ]
  },
  {
   "cell_type": "code",
   "execution_count": 17,
   "metadata": {},
   "outputs": [
    {
     "name": "stdout",
     "output_type": "stream",
     "text": [
      "_________________________________________________________________\n",
      "Layer (type)                 Output Shape              Param #   \n",
      "=================================================================\n",
      "conv2d_1 (Conv2D)            (None, 498, 312, 32)      896       \n",
      "_________________________________________________________________\n",
      "activation_1 (Activation)    (None, 498, 312, 32)      0         \n",
      "_________________________________________________________________\n",
      "conv2d_2 (Conv2D)            (None, 496, 310, 32)      9248      \n",
      "_________________________________________________________________\n",
      "activation_2 (Activation)    (None, 496, 310, 32)      0         \n",
      "_________________________________________________________________\n",
      "max_pooling2d_1 (MaxPooling2 (None, 248, 155, 32)      0         \n",
      "_________________________________________________________________\n",
      "flatten_1 (Flatten)          (None, 1230080)           0         \n",
      "_________________________________________________________________\n",
      "dense_1 (Dense)              (None, 225)               276768225 \n",
      "_________________________________________________________________\n",
      "activation_3 (Activation)    (None, 225)               0         \n",
      "_________________________________________________________________\n",
      "dense_2 (Dense)              (None, 3)                 678       \n",
      "_________________________________________________________________\n",
      "activation_4 (Activation)    (None, 3)                 0         \n",
      "=================================================================\n",
      "Total params: 276,779,047\n",
      "Trainable params: 276,779,047\n",
      "Non-trainable params: 0\n",
      "_________________________________________________________________\n"
     ]
    }
   ],
   "source": [
    "convnet.summary()"
   ]
  },
  {
   "cell_type": "code",
   "execution_count": 18,
   "metadata": {},
   "outputs": [],
   "source": [
    "optimizer_convnet = 'adam'\n",
    "loss_convnet = 'categorical_crossentropy'"
   ]
  },
  {
   "cell_type": "code",
   "execution_count": 21,
   "metadata": {},
   "outputs": [],
   "source": [
    "from pyspark.ml.feature import OneHotEncoderEstimator\n",
    "from pyspark.ml import Pipeline\n",
    "\n",
    "encoder = OneHotEncoderEstimator(inputCols=[\"label\"],\n",
    "                                 outputCols=[\"encoded_label\"],\n",
    "                                 dropLast=False)\n",
    "\n",
    "pipeline = Pipeline(stages=[encoder])\n",
    "fitted_pipeline = pipeline.fit(images)"
   ]
  },
  {
   "cell_type": "code",
   "execution_count": 23,
   "metadata": {},
   "outputs": [],
   "source": [
    "train = fitted_pipeline.transform(images)"
   ]
  },
  {
   "cell_type": "code",
   "execution_count": 24,
   "metadata": {},
   "outputs": [
    {
     "name": "stdout",
     "output_type": "stream",
     "text": [
      "+--------------------+-----+-------------+\n",
      "|               image|label|encoded_label|\n",
      "+--------------------+-----+-------------+\n",
      "|[[[1.0, 1.0, 1.0]...|    1|(3,[1],[1.0])|\n",
      "|[[[1.0, 1.0, 1.0]...|    1|(3,[1],[1.0])|\n",
      "|[[[1.0, 1.0, 1.0]...|    1|(3,[1],[1.0])|\n",
      "|[[[0.699999988079...|    1|(3,[1],[1.0])|\n",
      "|[[[1.0, 1.0, 1.0]...|    1|(3,[1],[1.0])|\n",
      "+--------------------+-----+-------------+\n",
      "only showing top 5 rows\n",
      "\n"
     ]
    }
   ],
   "source": [
    "train.show(5)"
   ]
  },
  {
   "cell_type": "code",
   "execution_count": 27,
   "metadata": {},
   "outputs": [
    {
     "name": "stdout",
     "output_type": "stream",
     "text": [
      "CPU times: user 32.5 s, sys: 26.5 s, total: 59 s\n",
      "Wall time: 1min 38s\n"
     ]
    }
   ],
   "source": [
    "trainer = AEASGD(keras_model=convnet, worker_optimizer=optimizer_convnet, loss=loss_convnet, \n",
    "                 num_workers=5, batch_size=32, communication_window=32, num_epoch=1,\n",
    "                 features_col=\"image\", label_col=\"encoded_label\")\n",
    "%time trained_model = trainer.train(train)"
   ]
  },
  {
   "cell_type": "code",
   "execution_count": 30,
   "metadata": {},
   "outputs": [],
   "source": [
    "test = train.take(1)[0].image"
   ]
  },
  {
   "cell_type": "code",
   "execution_count": 36,
   "metadata": {},
   "outputs": [],
   "source": [
    "predictor = ModelPredictor(keras_model=trained_model, features_col='image')\n",
    "pred = predictor.predict(train.limit(5))"
   ]
  },
  {
   "cell_type": "code",
   "execution_count": 37,
   "metadata": {},
   "outputs": [
    {
     "name": "stdout",
     "output_type": "stream",
     "text": [
      "+--------------------+-----+-------------+--------------------+\n",
      "|               image|label|encoded_label|          prediction|\n",
      "+--------------------+-----+-------------+--------------------+\n",
      "|[[[1.0, 1.0, 1.0]...|    1|(3,[1],[1.0])|[0.40516602993011...|\n",
      "|[[[1.0, 1.0, 1.0]...|    1|(3,[1],[1.0])|[0.38794946670532...|\n",
      "|[[[1.0, 1.0, 1.0]...|    1|(3,[1],[1.0])|[0.38265267014503...|\n",
      "|[[[0.699999988079...|    1|(3,[1],[1.0])|[0.38981512188911...|\n",
      "|[[[1.0, 1.0, 1.0]...|    1|(3,[1],[1.0])|[0.39766237139701...|\n",
      "+--------------------+-----+-------------+--------------------+\n",
      "\n"
     ]
    }
   ],
   "source": [
    "pred.show(5)"
   ]
  },
  {
   "cell_type": "code",
   "execution_count": 38,
   "metadata": {
    "scrolled": true
   },
   "outputs": [
    {
     "data": {
      "text/plain": [
       "DenseVector([0.4052, 0.3576, 0.2373])"
      ]
     },
     "execution_count": 38,
     "metadata": {},
     "output_type": "execute_result"
    }
   ],
   "source": [
    "pred.take(1)[0].prediction"
   ]
  },
  {
   "cell_type": "markdown",
   "metadata": {},
   "source": [
    "Densenet"
   ]
  },
  {
   "cell_type": "code",
   "execution_count": 41,
   "metadata": {},
   "outputs": [],
   "source": [
    "from densenet import DenseNet"
   ]
  },
  {
   "cell_type": "code",
   "execution_count": 42,
   "metadata": {},
   "outputs": [
    {
     "name": "stdout",
     "output_type": "stream",
     "text": [
      "tf\n",
      "tf\n"
     ]
    }
   ],
   "source": [
    "model = DenseNet(nb_classes = 3, img_dim = (500, 314, 3), depth = 10, \n",
    "                 nb_dense_block = 2, growth_rate = 3, \n",
    "                 dropout_rate= 0.5, nb_filter = 12)"
   ]
  },
  {
   "cell_type": "code",
   "execution_count": 43,
   "metadata": {},
   "outputs": [
    {
     "name": "stdout",
     "output_type": "stream",
     "text": [
      "__________________________________________________________________________________________________\n",
      "Layer (type)                    Output Shape         Param #     Connected to                     \n",
      "==================================================================================================\n",
      "input_1 (InputLayer)            (None, 500, 314, 3)  0                                            \n",
      "__________________________________________________________________________________________________\n",
      "initial_conv2D (Conv2D)         (None, 12, 314, 3)   54000       input_1[0][0]                    \n",
      "__________________________________________________________________________________________________\n",
      "batch_normalization_1 (BatchNor (None, 12, 314, 3)   48          initial_conv2D[0][0]             \n",
      "__________________________________________________________________________________________________\n",
      "activation_5 (Activation)       (None, 12, 314, 3)   0           batch_normalization_1[0][0]      \n",
      "__________________________________________________________________________________________________\n",
      "conv2d_3 (Conv2D)               (None, 3, 314, 3)    324         activation_5[0][0]               \n",
      "__________________________________________________________________________________________________\n",
      "dropout_1 (Dropout)             (None, 3, 314, 3)    0           conv2d_3[0][0]                   \n",
      "__________________________________________________________________________________________________\n",
      "concatenate_1 (Concatenate)     (None, 15, 314, 3)   0           initial_conv2D[0][0]             \n",
      "                                                                 dropout_1[0][0]                  \n",
      "__________________________________________________________________________________________________\n",
      "batch_normalization_2 (BatchNor (None, 15, 314, 3)   60          concatenate_1[0][0]              \n",
      "__________________________________________________________________________________________________\n",
      "activation_6 (Activation)       (None, 15, 314, 3)   0           batch_normalization_2[0][0]      \n",
      "__________________________________________________________________________________________________\n",
      "conv2d_4 (Conv2D)               (None, 3, 314, 3)    405         activation_6[0][0]               \n",
      "__________________________________________________________________________________________________\n",
      "dropout_2 (Dropout)             (None, 3, 314, 3)    0           conv2d_4[0][0]                   \n",
      "__________________________________________________________________________________________________\n",
      "concatenate_2 (Concatenate)     (None, 18, 314, 3)   0           initial_conv2D[0][0]             \n",
      "                                                                 dropout_1[0][0]                  \n",
      "                                                                 dropout_2[0][0]                  \n",
      "__________________________________________________________________________________________________\n",
      "batch_normalization_3 (BatchNor (None, 18, 314, 3)   72          concatenate_2[0][0]              \n",
      "__________________________________________________________________________________________________\n",
      "activation_7 (Activation)       (None, 18, 314, 3)   0           batch_normalization_3[0][0]      \n",
      "__________________________________________________________________________________________________\n",
      "conv2d_5 (Conv2D)               (None, 18, 314, 3)   324         activation_7[0][0]               \n",
      "__________________________________________________________________________________________________\n",
      "dropout_3 (Dropout)             (None, 18, 314, 3)   0           conv2d_5[0][0]                   \n",
      "__________________________________________________________________________________________________\n",
      "average_pooling2d_1 (AveragePoo (None, 18, 157, 1)   0           dropout_3[0][0]                  \n",
      "__________________________________________________________________________________________________\n",
      "batch_normalization_4 (BatchNor (None, 18, 157, 1)   72          average_pooling2d_1[0][0]        \n",
      "__________________________________________________________________________________________________\n",
      "activation_8 (Activation)       (None, 18, 157, 1)   0           batch_normalization_4[0][0]      \n",
      "__________________________________________________________________________________________________\n",
      "conv2d_6 (Conv2D)               (None, 3, 157, 1)    486         activation_8[0][0]               \n",
      "__________________________________________________________________________________________________\n",
      "dropout_4 (Dropout)             (None, 3, 157, 1)    0           conv2d_6[0][0]                   \n",
      "__________________________________________________________________________________________________\n",
      "concatenate_3 (Concatenate)     (None, 21, 157, 1)   0           average_pooling2d_1[0][0]        \n",
      "                                                                 dropout_4[0][0]                  \n",
      "__________________________________________________________________________________________________\n",
      "batch_normalization_5 (BatchNor (None, 21, 157, 1)   84          concatenate_3[0][0]              \n",
      "__________________________________________________________________________________________________\n",
      "activation_9 (Activation)       (None, 21, 157, 1)   0           batch_normalization_5[0][0]      \n",
      "__________________________________________________________________________________________________\n",
      "conv2d_7 (Conv2D)               (None, 3, 157, 1)    567         activation_9[0][0]               \n",
      "__________________________________________________________________________________________________\n",
      "dropout_5 (Dropout)             (None, 3, 157, 1)    0           conv2d_7[0][0]                   \n",
      "__________________________________________________________________________________________________\n",
      "concatenate_4 (Concatenate)     (None, 24, 157, 1)   0           average_pooling2d_1[0][0]        \n",
      "                                                                 dropout_4[0][0]                  \n",
      "                                                                 dropout_5[0][0]                  \n",
      "__________________________________________________________________________________________________\n",
      "batch_normalization_6 (BatchNor (None, 24, 157, 1)   96          concatenate_4[0][0]              \n",
      "__________________________________________________________________________________________________\n",
      "activation_10 (Activation)      (None, 24, 157, 1)   0           batch_normalization_6[0][0]      \n",
      "__________________________________________________________________________________________________\n",
      "global_average_pooling2d_1 (Glo (None, 1)            0           activation_10[0][0]              \n",
      "__________________________________________________________________________________________________\n",
      "dense_3 (Dense)                 (None, 3)            6           global_average_pooling2d_1[0][0] \n",
      "==================================================================================================\n",
      "Total params: 56,544\n",
      "Trainable params: 56,328\n",
      "Non-trainable params: 216\n",
      "__________________________________________________________________________________________________\n"
     ]
    }
   ],
   "source": [
    "model.summary()"
   ]
  },
  {
   "cell_type": "code",
   "execution_count": 45,
   "metadata": {},
   "outputs": [
    {
     "name": "stdout",
     "output_type": "stream",
     "text": [
      "root\n",
      " |-- image: array (nullable = true)\n",
      " |    |-- element: array (containsNull = true)\n",
      " |    |    |-- element: array (containsNull = true)\n",
      " |    |    |    |-- element: double (containsNull = true)\n",
      " |-- label: long (nullable = true)\n",
      " |-- encoded_label: vector (nullable = true)\n",
      "\n"
     ]
    }
   ],
   "source": [
    "#train, test = train.randomSplit([0.8, 0.2])\n",
    "train.printSchema()"
   ]
  },
  {
   "cell_type": "code",
   "execution_count": 46,
   "metadata": {},
   "outputs": [
    {
     "name": "stdout",
     "output_type": "stream",
     "text": [
      "CPU times: user 39min 47s, sys: 41min 45s, total: 1h 21min 32s\n",
      "Wall time: 43min 15s\n"
     ]
    }
   ],
   "source": [
    "trainer_densenet = AEASGD(keras_model=model, worker_optimizer=optimizer_convnet, loss=loss_convnet, \n",
    "                 num_workers=6, batch_size=32, communication_window=32, num_epoch=1,\n",
    "                 features_col=\"image\", label_col=\"encoded_label\")\n",
    "%time trained_model_densenet = trainer_densenet.train(train)"
   ]
  },
  {
   "cell_type": "code",
   "execution_count": 47,
   "metadata": {},
   "outputs": [],
   "source": [
    "predictor = ModelPredictor(keras_model=trained_model_densenet, features_col='image')\n",
    "pred = predictor.predict(train.limit(2))"
   ]
  },
  {
   "cell_type": "code",
   "execution_count": 48,
   "metadata": {},
   "outputs": [
    {
     "name": "stdout",
     "output_type": "stream",
     "text": [
      "+--------------------+-----+-------------+--------------------+\n",
      "|               image|label|encoded_label|          prediction|\n",
      "+--------------------+-----+-------------+--------------------+\n",
      "|[[[0.699999988079...|    1|(3,[1],[1.0])|[0.38277775049209...|\n",
      "|[[[0.699999988079...|    1|(3,[1],[1.0])|[0.38393911719322...|\n",
      "+--------------------+-----+-------------+--------------------+\n",
      "\n"
     ]
    }
   ],
   "source": [
    "pred.show()"
   ]
  },
  {
   "cell_type": "markdown",
   "metadata": {},
   "source": [
    "## Tests with ImageSchema"
   ]
  },
  {
   "cell_type": "code",
   "execution_count": 14,
   "metadata": {},
   "outputs": [],
   "source": [
    "from pyspark.ml.image import ImageSchema"
   ]
  },
  {
   "cell_type": "code",
   "execution_count": 15,
   "metadata": {},
   "outputs": [],
   "source": [
    "img_test = np.asarray(images.take(1)[0].image)"
   ]
  },
  {
   "cell_type": "code",
   "execution_count": 16,
   "metadata": {
    "scrolled": true
   },
   "outputs": [
    {
     "data": {
      "text/plain": [
       "(500, 314, 3)"
      ]
     },
     "execution_count": 16,
     "metadata": {},
     "output_type": "execute_result"
    }
   ],
   "source": [
    "img_test.shape"
   ]
  },
  {
   "cell_type": "code",
   "execution_count": 17,
   "metadata": {},
   "outputs": [
    {
     "data": {
      "text/plain": [
       "array([[[1.        , 1.        , 1.        ],\n",
       "        [1.        , 1.        , 1.        ],\n",
       "        [1.        , 1.        , 1.        ],\n",
       "        ...,\n",
       "        [1.        , 1.        , 1.        ],\n",
       "        [1.        , 1.        , 1.        ],\n",
       "        [1.        , 1.        , 1.        ]],\n",
       "\n",
       "       [[1.        , 1.        , 1.        ],\n",
       "        [1.        , 1.        , 1.        ],\n",
       "        [1.        , 1.        , 1.        ],\n",
       "        ...,\n",
       "        [1.        , 1.        , 1.        ],\n",
       "        [1.        , 1.        , 1.        ],\n",
       "        [1.        , 1.        , 1.        ]],\n",
       "\n",
       "       [[1.        , 1.        , 1.        ],\n",
       "        [1.        , 1.        , 1.        ],\n",
       "        [1.        , 1.        , 1.        ],\n",
       "        ...,\n",
       "        [1.        , 1.        , 1.        ],\n",
       "        [1.        , 1.        , 1.        ],\n",
       "        [1.        , 1.        , 1.        ]],\n",
       "\n",
       "       ...,\n",
       "\n",
       "       [[1.        , 1.        , 1.        ],\n",
       "        [1.        , 1.        , 1.        ],\n",
       "        [1.        , 1.        , 1.        ],\n",
       "        ...,\n",
       "        [1.        , 1.        , 1.        ],\n",
       "        [0.69999999, 0.69999999, 1.        ],\n",
       "        [0.69999999, 0.69999999, 1.        ]],\n",
       "\n",
       "       [[1.        , 1.        , 1.        ],\n",
       "        [1.        , 1.        , 1.        ],\n",
       "        [1.        , 1.        , 1.        ],\n",
       "        ...,\n",
       "        [1.        , 1.        , 1.        ],\n",
       "        [1.        , 1.        , 1.        ],\n",
       "        [1.        , 1.        , 1.        ]],\n",
       "\n",
       "       [[1.        , 1.        , 1.        ],\n",
       "        [1.        , 1.        , 1.        ],\n",
       "        [1.        , 1.        , 1.        ],\n",
       "        ...,\n",
       "        [1.        , 1.        , 1.        ],\n",
       "        [1.        , 1.        , 1.        ],\n",
       "        [1.        , 1.        , 1.        ]]])"
      ]
     },
     "execution_count": 17,
     "metadata": {},
     "output_type": "execute_result"
    }
   ],
   "source": [
    "img_test[:10]"
   ]
  },
  {
   "cell_type": "code",
   "execution_count": 18,
   "metadata": {},
   "outputs": [
    {
     "data": {
      "image/png": "[encoded data removed]",
      "text/plain": [
       "<matplotlib.figure.Figure at 0x7f718e9c3490>"
      ]
     },
     "metadata": {},
     "output_type": "display_data"
    }
   ],
   "source": [
    "showImage(img_test)"
   ]
  },
  {
   "cell_type": "code",
   "execution_count": 19,
   "metadata": {},
   "outputs": [],
   "source": [
    "## Encode the image\n",
    "img_schema_test = ImageSchema.toImage(img_test)"
   ]
  },
  {
   "cell_type": "code",
   "execution_count": 20,
   "metadata": {},
   "outputs": [
    {
     "name": "stdout",
     "output_type": "stream",
     "text": [
      "500\n",
      "314\n"
     ]
    }
   ],
   "source": [
    "print(img_schema_test.height)\n",
    "print(img_schema_test.width)"
   ]
  },
  {
   "cell_type": "code",
   "execution_count": 21,
   "metadata": {},
   "outputs": [
    {
     "data": {
      "text/plain": [
       "bytearray(b'\\x01\\x01\\x01\\x01\\x01\\x01\\x01\\x01\\x01\\x01')"
      ]
     },
     "execution_count": 21,
     "metadata": {},
     "output_type": "execute_result"
    }
   ],
   "source": [
    "img_schema_test.data[:10]"
   ]
  },
  {
   "cell_type": "code",
   "execution_count": 22,
   "metadata": {},
   "outputs": [
    {
     "data": {
      "text/plain": [
       "(500, 314, 3)"
      ]
     },
     "execution_count": 22,
     "metadata": {},
     "output_type": "execute_result"
    }
   ],
   "source": [
    "img_converted = ImageSchema.toNDArray(img_schema_test)\n",
    "img_converted.shape"
   ]
  },
  {
   "cell_type": "code",
   "execution_count": 23,
   "metadata": {},
   "outputs": [
    {
     "data": {
      "text/plain": [
       "array([[[1, 1, 1],\n",
       "        [1, 1, 1],\n",
       "        [1, 1, 1],\n",
       "        ...,\n",
       "        [1, 1, 1],\n",
       "        [1, 1, 1],\n",
       "        [1, 1, 1]],\n",
       "\n",
       "       [[1, 1, 1],\n",
       "        [1, 1, 1],\n",
       "        [1, 1, 1],\n",
       "        ...,\n",
       "        [1, 1, 1],\n",
       "        [1, 1, 1],\n",
       "        [1, 1, 1]],\n",
       "\n",
       "       [[1, 1, 1],\n",
       "        [1, 1, 1],\n",
       "        [1, 1, 1],\n",
       "        ...,\n",
       "        [1, 1, 1],\n",
       "        [1, 1, 1],\n",
       "        [1, 1, 1]],\n",
       "\n",
       "       ...,\n",
       "\n",
       "       [[1, 1, 1],\n",
       "        [1, 1, 1],\n",
       "        [1, 1, 1],\n",
       "        ...,\n",
       "        [1, 1, 1],\n",
       "        [0, 0, 1],\n",
       "        [0, 0, 1]],\n",
       "\n",
       "       [[1, 1, 1],\n",
       "        [1, 1, 1],\n",
       "        [1, 1, 1],\n",
       "        ...,\n",
       "        [1, 1, 1],\n",
       "        [1, 1, 1],\n",
       "        [1, 1, 1]],\n",
       "\n",
       "       [[1, 1, 1],\n",
       "        [1, 1, 1],\n",
       "        [1, 1, 1],\n",
       "        ...,\n",
       "        [1, 1, 1],\n",
       "        [1, 1, 1],\n",
       "        [1, 1, 1]]], dtype=uint8)"
      ]
     },
     "execution_count": 23,
     "metadata": {},
     "output_type": "execute_result"
    }
   ],
   "source": [
    "img_converted[:10]"
   ]
  },
  {
   "cell_type": "code",
   "execution_count": 24,
   "metadata": {
    "scrolled": true
   },
   "outputs": [
    {
     "data": {
      "image/png": "[encoded data removed]",
      "text/plain": [
       "<matplotlib.figure.Figure at 0x7f718e975d10>"
      ]
     },
     "metadata": {},
     "output_type": "display_data"
    }
   ],
   "source": [
    "showImage(ImageSchema.toNDArray(img_schema_test))"
   ]
  },
  {
   "cell_type": "code",
   "execution_count": null,
   "metadata": {},
   "outputs": [],
   "source": []
  }
 ],
 "metadata": {
  "kernelspec": {
   "display_name": "Python 2",
   "language": "python",
   "name": "python2"
  },
  "language_info": {
   "codemirror_mode": {
    "name": "ipython",
    "version": 2
   },
   "file_extension": ".py",
   "mimetype": "text/x-python",
   "name": "python",
   "nbconvert_exporter": "python",
   "pygments_lexer": "ipython2",
   "version": "2.7.14"
  }
 },
 "nbformat": 4,
 "nbformat_minor": 2
}
