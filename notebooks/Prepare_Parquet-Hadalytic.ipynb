{
 "cells": [
  {
   "cell_type": "markdown",
   "metadata": {},
   "source": [
    "## Setup spark "
   ]
  },
  {
   "cell_type": "code",
   "execution_count": 1,
   "metadata": {},
   "outputs": [],
   "source": [
    "import findspark\n",
    "findspark.init('/usr/hdp/spark/')"
   ]
  },
  {
   "cell_type": "code",
   "execution_count": 2,
   "metadata": {},
   "outputs": [],
   "source": [
    "application_name = 'HLF-preparation'\n",
    "master = \"yarn\"\n",
    "num_executors = 10\n",
    "num_cores = 4"
   ]
  },
  {
   "cell_type": "code",
   "execution_count": 3,
   "metadata": {},
   "outputs": [],
   "source": [
    "from pyspark.sql import SparkSession\n",
    "import os \n",
    "\n",
    "os.environ[\"PYTHONHOME\"] = \"/afs/cern.ch/work/m/migliori/public/anaconda2\"\n",
    "os.environ[\"PYTHONPATH\"] = \"/afs/cern.ch/work/m/migliori/public/anaconda2/lib/python2.7/site-packages\"\n",
    "os.environ[\"PYSPARK_SUBMIT_ARGS\"] = \"--packages org.diana-hep:spark-root_2.11:0.1.16 pyspark-shell\" \n",
    "\n",
    "spark = SparkSession.builder\\\n",
    "        .appName(application_name)\\\n",
    "        .config(\"spark.pyspark.python\",\n",
    "                \"/afs/cern.ch/work/m/migliori/public/anaconda2/bin/python\")\\\n",
    "        .config(\"spark.master\", master)\\\n",
    "        .config(\"spark.executor.cores\",\n",
    "                '{}'.format(num_cores))\\\n",
    "        .config(\"spark.executor.instances\",\n",
    "                '{}'.format(num_executors))\\\n",
    "        .getOrCreate()"
   ]
  },
  {
   "cell_type": "code",
   "execution_count": 4,
   "metadata": {},
   "outputs": [],
   "source": [
    "spark.sparkContext.addPyFile('Utils_functions.py')"
   ]
  },
  {
   "cell_type": "code",
   "execution_count": 5,
   "metadata": {},
   "outputs": [
    {
     "data": {
      "text/html": [
       "\n",
       "            <div>\n",
       "                <p><b>SparkSession - in-memory</b></p>\n",
       "                \n",
       "        <div>\n",
       "            <p><b>SparkContext</b></p>\n",
       "\n",
       "            <p><a href=\"http://migliori3.cern.ch:5200\">Spark UI</a></p>\n",
       "\n",
       "            <dl>\n",
       "              <dt>Version</dt>\n",
       "                <dd><code>v2.3.1</code></dd>\n",
       "              <dt>Master</dt>\n",
       "                <dd><code>yarn</code></dd>\n",
       "              <dt>AppName</dt>\n",
       "                <dd><code>HLF-preparation</code></dd>\n",
       "            </dl>\n",
       "        </div>\n",
       "        \n",
       "            </div>\n",
       "        "
      ],
      "text/plain": [
       "<pyspark.sql.session.SparkSession at 0x7f088c034190>"
      ]
     },
     "execution_count": 5,
     "metadata": {},
     "output_type": "execute_result"
    }
   ],
   "source": [
    "spark"
   ]
  },
  {
   "cell_type": "markdown",
   "metadata": {},
   "source": [
    "## Read and convert the samples\n",
    "\n",
    "Create the vectors containing Low Level and High Level Features"
   ]
  },
  {
   "cell_type": "code",
   "execution_count": 31,
   "metadata": {},
   "outputs": [
    {
     "name": "stdout",
     "output_type": "stream",
     "text": [
      "CPU times: user 76.9 ms, sys: 23 ms, total: 99.9 ms\n",
      "Wall time: 28.2 s\n"
     ]
    }
   ],
   "source": [
    "%%time\n",
    "from pyspark.sql.functions import lit\n",
    "from Utils_functions import *\n",
    "\n",
    "## labels: qcd=0, tt=1, wjets=2\n",
    "\n",
    "requiredColumns = [\"EFlowTrack\", \"MuonTight_size\", \"Electron_size\",\n",
    "                   \"EFlowNeutralHadron\", \"EFlowPhoton\", \"Electron\",\n",
    "                   \"MuonTight\", \"MissingET\", \"Jet\"]\n",
    "\n",
    "qcd = spark.read.format(\"org.dianahep.sparkroot.experimental\") \\\n",
    "                .load('data_root/qcd*.root') \\\n",
    "                .select(requiredColumns) \\\n",
    "                .rdd \\\n",
    "                .map(convert) \\\n",
    "                .filter(lambda row: len(row) > 0) \\\n",
    "                .toDF() \\\n",
    "                .withColumn(\"label\", lit(0))\n",
    "        \n",
    "tt = spark.read.format(\"org.dianahep.sparkroot.experimental\") \\\n",
    "                .load('data_root/tt*.root') \\\n",
    "                .select(requiredColumns) \\\n",
    "                .rdd \\\n",
    "                .map(convert) \\\n",
    "                .filter(lambda row: len(row) > 0) \\\n",
    "                .toDF() \\\n",
    "                .withColumn(\"label\", lit(1))\n",
    "        \n",
    "wjets = spark.read.format(\"org.dianahep.sparkroot.experimental\") \\\n",
    "                .load('data_root/wjets*.root') \\\n",
    "                .select(requiredColumns) \\\n",
    "                .rdd \\\n",
    "                .map(convert) \\\n",
    "                .filter(lambda row: len(row) > 0) \\\n",
    "                .toDF() \\\n",
    "                .withColumn(\"label\", lit(2))"
   ]
  },
  {
   "cell_type": "code",
   "execution_count": 32,
   "metadata": {},
   "outputs": [
    {
     "name": "stdout",
     "output_type": "stream",
     "text": [
      "CPU times: user 8.8 ms, sys: 9.73 ms, total: 18.5 ms\n",
      "Wall time: 49 s\n"
     ]
    },
    {
     "data": {
      "text/plain": [
       "447"
      ]
     },
     "execution_count": 32,
     "metadata": {},
     "output_type": "execute_result"
    }
   ],
   "source": [
    "%time qcd.count()"
   ]
  },
  {
   "cell_type": "code",
   "execution_count": 33,
   "metadata": {},
   "outputs": [
    {
     "name": "stdout",
     "output_type": "stream",
     "text": [
      "CPU times: user 73.1 ms, sys: 39 ms, total: 112 ms\n",
      "Wall time: 9min 34s\n"
     ]
    },
    {
     "data": {
      "text/plain": [
       "28522"
      ]
     },
     "execution_count": 33,
     "metadata": {},
     "output_type": "execute_result"
    }
   ],
   "source": [
    "%time tt.count()"
   ]
  },
  {
   "cell_type": "code",
   "execution_count": 34,
   "metadata": {},
   "outputs": [
    {
     "name": "stdout",
     "output_type": "stream",
     "text": [
      "CPU times: user 65.8 ms, sys: 44 ms, total: 110 ms\n",
      "Wall time: 9min 48s\n"
     ]
    },
    {
     "data": {
      "text/plain": [
       "29909"
      ]
     },
     "execution_count": 34,
     "metadata": {},
     "output_type": "execute_result"
    }
   ],
   "source": [
    "%time wjets.count() "
   ]
  },
  {
   "cell_type": "code",
   "execution_count": 36,
   "metadata": {},
   "outputs": [
    {
     "name": "stdout",
     "output_type": "stream",
     "text": [
      "CPU times: user 543 µs, sys: 1.7 ms, total: 2.25 ms\n",
      "Wall time: 6.92 ms\n"
     ]
    }
   ],
   "source": [
    "%time data = qcd.union(tt).union(wjets)"
   ]
  },
  {
   "cell_type": "code",
   "execution_count": 37,
   "metadata": {},
   "outputs": [
    {
     "name": "stdout",
     "output_type": "stream",
     "text": [
      "root\n",
      " |-- hfeatures: vector (nullable = true)\n",
      " |-- lfeatures: array (nullable = true)\n",
      " |    |-- element: array (containsNull = true)\n",
      " |    |    |-- element: double (containsNull = true)\n",
      " |-- label: integer (nullable = false)\n",
      "\n"
     ]
    }
   ],
   "source": [
    "data.printSchema()"
   ]
  },
  {
   "cell_type": "markdown",
   "metadata": {},
   "source": [
    "Save the datasets as a Parquet file"
   ]
  },
  {
   "cell_type": "code",
   "execution_count": 38,
   "metadata": {},
   "outputs": [
    {
     "name": "stdout",
     "output_type": "stream",
     "text": [
      "CPU times: user 81.1 ms, sys: 36.2 ms, total: 117 ms\n",
      "Wall time: 9min 49s\n"
     ]
    }
   ],
   "source": [
    "%time data.write.parquet(\"more_data.parquet\", mode=\"overwrite\")"
   ]
  },
  {
   "cell_type": "markdown",
   "metadata": {},
   "source": [
    "## Load the dataframe"
   ]
  },
  {
   "cell_type": "code",
   "execution_count": 39,
   "metadata": {
    "scrolled": true
   },
   "outputs": [
    {
     "name": "stdout",
     "output_type": "stream",
     "text": [
      "The history saving thread hit an unexpected error (DatabaseError('database disk image is malformed',)).History will not be written to the database.\n",
      "58878\n",
      "CPU times: user 4.85 ms, sys: 2.02 ms, total: 6.87 ms\n",
      "Wall time: 2.78 s\n"
     ]
    }
   ],
   "source": [
    "%%time\n",
    "## Load the dataset\n",
    "loaded_dataset = spark.read.format(\"parquet\").load(\"more_data.parquet\")\n",
    "print(loaded_dataset.count())"
   ]
  }
 ],
 "metadata": {
  "kernelspec": {
   "display_name": "Python 2",
   "language": "python",
   "name": "python2"
  },
  "language_info": {
   "codemirror_mode": {
    "name": "ipython",
    "version": 2
   },
   "file_extension": ".py",
   "mimetype": "text/x-python",
   "name": "python",
   "nbconvert_exporter": "python",
   "pygments_lexer": "ipython2",
   "version": "2.7.14"
  }
 },
 "nbformat": 4,
 "nbformat_minor": 2
}
